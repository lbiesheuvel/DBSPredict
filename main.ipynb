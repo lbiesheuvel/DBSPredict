{
 "cells": [
  {
   "cell_type": "code",
   "execution_count": null,
   "metadata": {},
   "outputs": [],
   "source": [
    "from project import Project\n",
    "import tables\n",
    "from get_dataframe import get_dataframe"
   ]
  },
  {
   "cell_type": "code",
   "execution_count": null,
   "metadata": {},
   "outputs": [],
   "source": [
    "import pandas\n",
    "import sklearn\n",
    "import shap\n",
    "import numpy\n",
    "import imblearn\n",
    "import scipy\n",
    "import matplotlib\n",
    "import optuna\n",
    "\n",
    "print(f'Pandas version: {pandas.__version__}')\n",
    "print(f'scikit-learn version: {sklearn.__version__}')\n",
    "print(f'SHAP version: {shap.__version__}')\n",
    "print(f'NumPy version: {numpy.__version__}')\n",
    "print(f'Matplotlib version: {matplotlib.__version__}')\n",
    "print(f'Imbalanced-learn version: {imblearn.__version__}')\n",
    "print(f'Scipy version: {scipy.__version__}')\n",
    "print(f'Optuna version: {optuna.__version__}')\n"
   ]
  },
  {
   "cell_type": "code",
   "execution_count": null,
   "metadata": {},
   "outputs": [],
   "source": [
    "# get python version\n",
    "import sys\n",
    "print(f'Python version: {sys.version}')"
   ]
  },
  {
   "cell_type": "code",
   "execution_count": null,
   "metadata": {},
   "outputs": [],
   "source": [
    "candidate_features = [\n",
    "            \"Age\",\n",
    "            \"Sex\",\n",
    "            \"Disease duration\",\n",
    "            \"Impulse control disorder\",\n",
    "            \"Days between screening and follow up\",\n",
    "            \"Total Levodopa Equivalent Dose\",\n",
    "            \"Total UPDRS-I score\",\n",
    "            \"Total UPDRS-II ON score\",\n",
    "            \"Total UPDRS-III OFF score\",\n",
    "            \"Total bradykinesia + rigidity OFF score (UPDRS-III subscore)\",\n",
    "            \"Total tremor OFF score (UPDRS-III subscore)\",\n",
    "            \"Axial OFF score (UPDRS-III subscore)\",\n",
    "            \"Total bradykinesia + rigidity ON score (UPDRS-III subscore)\",\n",
    "            \"Total UPDRS-III ON score\",\n",
    "            \"Total tremor ON score (UPDRS-III subscore)\",\n",
    "            \"Axial ON score (UPDRS-III subscore)\",\n",
    "            \"% UPDRS-III improvement after dopamine\",\n",
    "            \"% Total bradykinesia + rigidity improvement after dopamine (UPDRS-III subscore)\",\n",
    "            \"% Total tremor improvement after dopamine (UPDRS-III subscore)\",\n",
    "            \"% Axial improvement after dopamine (UPDRS-III subscore)\",\n",
    "            \"Total preoperative UPDRS-IV score\",\n",
    "            \"% of waking day dyskinesias present\",\n",
    "            \"% of waking day OFF\",\n",
    "            \"% of OFF time with dystonia\",\n",
    "            \"AS score\",\n",
    "            \"PDQ-39 score\",\n",
    "            #\"Most invalidating symptom\",\n",
    "            #\"Hoehn and Yahr OFF\", # Too few records\n",
    "            #\"Hoehn and Yahr ON\", # Too few records\n",
    "            #\"BDI score\", # Too few records\n",
    "        ]"
   ]
  },
  {
   "cell_type": "code",
   "execution_count": null,
   "metadata": {},
   "outputs": [],
   "source": [
    "results = []\n",
    "all_included_indices = []\n",
    "# results is a list of tuples (outcome_abbreviation, performance, lower_bound, upper_bound)\n",
    "def run_project(project_outcome):\n",
    "    project = Project(candidate_features, project_outcome)\n",
    "    project.train_and_tune_model(n_trials=100)\n",
    "    project.evaluate()\n",
    "    project.calculate_confidence_interval(n_bootstraps=1000)\n",
    "    project.perform_shap_analysis()\n",
    "    list_included_features = project.list_included_features\n",
    "    best_model_type = project.best_model_type\n",
    "    num_training_records = project.num_training_records\n",
    "    num_testing_records = project.num_testing_records\n",
    "    included_indices = project.included_indices\n",
    "    all_included_indices.append(included_indices)\n",
    "    model_name = project.model_name\n",
    "    lower_bound = project.lower_bound\n",
    "    upper_bound = project.upper_bound\n",
    "    performance = project.performance\n",
    "    rsquaredperformance = project.rsquaredperformance\n",
    "    rsquaredlower_bound = project.rsquaredlower_bound\n",
    "    rsquaredupper_bound = project.rsquaredupper_bound\n",
    "    results.append((list_included_features, num_training_records, num_testing_records, best_model_type, model_name, performance, lower_bound, upper_bound, rsquaredperformance, rsquaredlower_bound, rsquaredupper_bound))\n"
   ]
  },
  {
   "cell_type": "code",
   "execution_count": null,
   "metadata": {},
   "outputs": [],
   "source": [
    "run_project('Total UPDRS-III')"
   ]
  },
  {
   "cell_type": "code",
   "execution_count": null,
   "metadata": {},
   "outputs": [],
   "source": [
    "run_project('Tremor')"
   ]
  },
  {
   "cell_type": "code",
   "execution_count": null,
   "metadata": {},
   "outputs": [],
   "source": [
    "run_project('Axial')"
   ]
  },
  {
   "cell_type": "code",
   "execution_count": null,
   "metadata": {},
   "outputs": [],
   "source": [
    "run_project('Bradykinesia + rigidity')"
   ]
  },
  {
   "cell_type": "code",
   "execution_count": null,
   "metadata": {},
   "outputs": [],
   "source": [
    "latex_table = tables.generate_feature_table(\n",
    "    [\n",
    "        {\n",
    "            'name': model_name, \n",
    "            'features': list_included_features\n",
    "        } for list_included_features, _, _, _, model_name, _, _, _, _, _, _ in results], candidate_features)\n",
    "print(latex_table)\n"
   ]
  },
  {
   "cell_type": "code",
   "execution_count": null,
   "metadata": {},
   "outputs": [],
   "source": [
    "# reload tables\n",
    "from importlib import reload\n",
    "reload(tables)"
   ]
  },
  {
   "cell_type": "code",
   "execution_count": null,
   "metadata": {},
   "outputs": [],
   "source": [
    "feature_dataframe = tables.generate_feature_dataframe(\n",
    "    [\n",
    "        {\n",
    "            'name': model_name, \n",
    "            'features': list_included_features\n",
    "        } for list_included_features, _, _, _, model_name, _, _, _, _, _, _ in results], candidate_features)\n",
    "\n",
    "tables.export_dataframe_to_word(feature_dataframe.reset_index().rename(columns={\"index\": \"Feature\"}), \"feature_selection\")\n",
    "feature_dataframe"
   ]
  },
  {
   "cell_type": "code",
   "execution_count": null,
   "metadata": {},
   "outputs": [],
   "source": [
    "# NOTE: Does not show R2 values\n",
    "latex_table = tables.generate_results_table(\n",
    "    [\n",
    "        {\n",
    "            'name': model_name, \n",
    "            'n_records_training_data': num_training_records,\n",
    "            'n_records_testing_data': num_testing_records,\n",
    "            'model_type': model_type,\n",
    "            'rmse': performance, \n",
    "            'lower bound': lower_bound, \n",
    "            'upper bound': upper_bound\n",
    "        } for _, num_training_records, num_testing_records, model_type, model_name, performance, lower_bound, upper_bound, _, _, _ in results])\n",
    "\n",
    "print(latex_table)\n"
   ]
  },
  {
   "cell_type": "code",
   "execution_count": null,
   "metadata": {},
   "outputs": [],
   "source": [
    "results_dataframe = tables.generate_results_dataframe(\n",
    "    [\n",
    "        {\n",
    "            'name': model_name, \n",
    "            'n_records_training_data': num_training_records,\n",
    "            'n_records_testing_data': num_testing_records,\n",
    "            'model_type': model_type,\n",
    "            'rmse': performance, \n",
    "            'lower bound': lower_bound, \n",
    "            'upper bound': upper_bound,\n",
    "            'r squared': rsquaredperformance,\n",
    "            'r squared lower bound': rsquaredlower_bound,\n",
    "            'r squared upper bound': rsquaredupper_bound,\n",
    "        } for _, num_training_records, num_testing_records, model_type, model_name, performance, lower_bound, upper_bound, rsquaredperformance, rsquaredlower_bound, rsquaredupper_bound in results\n",
    "    ]\n",
    ")\n",
    "\n",
    "tables.export_dataframe_to_word(results_dataframe, \"results\")\n",
    "results_dataframe"
   ]
  },
  {
   "cell_type": "code",
   "execution_count": null,
   "metadata": {},
   "outputs": [],
   "source": [
    "all_included_indices \n",
    "# get unique indices\n",
    "unique_indices = set()\n",
    "for included_indices in all_included_indices:\n",
    "    for index in included_indices:\n",
    "        unique_indices.add(index)\n",
    "\n",
    "data = get_dataframe()\n",
    "data = data[data[\"NO Permission data use for research\"] != 1.0]\n",
    "data = data.loc[list(unique_indices)]\n",
    "\n"
   ]
  },
  {
   "cell_type": "code",
   "execution_count": null,
   "metadata": {},
   "outputs": [],
   "source": [
    "category_table_latex, category_table_pandas = tables.categorical_statistics_table(data)\n",
    "print(category_table_latex)\n"
   ]
  },
  {
   "cell_type": "code",
   "execution_count": null,
   "metadata": {},
   "outputs": [],
   "source": [
    "tables.export_dataframe_to_word(category_table_pandas, \"categorical_statistics\")\n",
    "category_table_pandas\n"
   ]
  },
  {
   "cell_type": "code",
   "execution_count": null,
   "metadata": {},
   "outputs": [],
   "source": [
    "numerical_table_latex, numerical_table_pandas = tables.numerical_statistics_table(data, candidate_features)\n",
    "print(numerical_table_latex)\n"
   ]
  },
  {
   "cell_type": "code",
   "execution_count": null,
   "metadata": {},
   "outputs": [],
   "source": [
    "tables.export_dataframe_to_word(numerical_table_pandas, \"numerical_statistics\")\n",
    "numerical_table_pandas"
   ]
  },
  {
   "cell_type": "code",
   "execution_count": null,
   "metadata": {},
   "outputs": [],
   "source": []
  }
 ],
 "metadata": {
  "kernelspec": {
   "display_name": ".venv",
   "language": "python",
   "name": "python3"
  },
  "language_info": {
   "codemirror_mode": {
    "name": "ipython",
    "version": 3
   },
   "file_extension": ".py",
   "mimetype": "text/x-python",
   "name": "python",
   "nbconvert_exporter": "python",
   "pygments_lexer": "ipython3",
   "version": "3.12.4"
  }
 },
 "nbformat": 4,
 "nbformat_minor": 2
}
